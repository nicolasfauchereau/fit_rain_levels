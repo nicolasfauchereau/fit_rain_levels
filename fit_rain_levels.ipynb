{
 "metadata": {
  "name": "",
  "signature": "sha256:6f19c28d6f9596921744200dc0a65c1885c3fcf07f5c789ffa1783aba632cd90"
 },
 "nbformat": 3,
 "nbformat_minor": 0,
 "worksheets": [
  {
   "cells": [
    {
     "cell_type": "code",
     "collapsed": false,
     "input": [
      "import pandas as pd\n",
      "import numpy as np\n",
      "import matplotlib.pyplot as plt"
     ],
     "language": "python",
     "metadata": {},
     "outputs": [],
     "prompt_number": 1
    },
    {
     "cell_type": "code",
     "collapsed": false,
     "input": [
      "from scipy.optimize import curve_fit"
     ],
     "language": "python",
     "metadata": {},
     "outputs": [],
     "prompt_number": 2
    },
    {
     "cell_type": "code",
     "collapsed": false,
     "input": [
      "%matplotlib inline"
     ],
     "language": "python",
     "metadata": {},
     "outputs": [],
     "prompt_number": 3
    },
    {
     "cell_type": "heading",
     "level": 3,
     "metadata": {},
     "source": [
      "reads the data from the Excel spreadsheet"
     ]
    },
    {
     "cell_type": "code",
     "collapsed": false,
     "input": [
      "data= pd.read_excel('./rainfall_calibration.xlsx', sheetname='Sheet1') "
     ],
     "language": "python",
     "metadata": {},
     "outputs": [],
     "prompt_number": 4
    },
    {
     "cell_type": "code",
     "collapsed": false,
     "input": [
      "data"
     ],
     "language": "python",
     "metadata": {},
     "outputs": [
      {
       "html": [
        "<div style=\"max-height:1000px;max-width:1500px;overflow:auto;\">\n",
        "<table border=\"1\" class=\"dataframe\">\n",
        "  <thead>\n",
        "    <tr style=\"text-align: right;\">\n",
        "      <th></th>\n",
        "      <th>Rainfall</th>\n",
        "      <th>Level</th>\n",
        "    </tr>\n",
        "  </thead>\n",
        "  <tbody>\n",
        "    <tr>\n",
        "      <th>0 </th>\n",
        "      <td>  0.0</td>\n",
        "      <td>  0</td>\n",
        "    </tr>\n",
        "    <tr>\n",
        "      <th>1 </th>\n",
        "      <td>  0.1</td>\n",
        "      <td>  1</td>\n",
        "    </tr>\n",
        "    <tr>\n",
        "      <th>2 </th>\n",
        "      <td>  0.8</td>\n",
        "      <td>  2</td>\n",
        "    </tr>\n",
        "    <tr>\n",
        "      <th>3 </th>\n",
        "      <td>  2.0</td>\n",
        "      <td>  3</td>\n",
        "    </tr>\n",
        "    <tr>\n",
        "      <th>4 </th>\n",
        "      <td>  4.0</td>\n",
        "      <td>  4</td>\n",
        "    </tr>\n",
        "    <tr>\n",
        "      <th>5 </th>\n",
        "      <td>  6.5</td>\n",
        "      <td>  5</td>\n",
        "    </tr>\n",
        "    <tr>\n",
        "      <th>6 </th>\n",
        "      <td> 10.0</td>\n",
        "      <td>  6</td>\n",
        "    </tr>\n",
        "    <tr>\n",
        "      <th>7 </th>\n",
        "      <td> 14.0</td>\n",
        "      <td>  7</td>\n",
        "    </tr>\n",
        "    <tr>\n",
        "      <th>8 </th>\n",
        "      <td> 20.0</td>\n",
        "      <td>  8</td>\n",
        "    </tr>\n",
        "    <tr>\n",
        "      <th>9 </th>\n",
        "      <td> 30.0</td>\n",
        "      <td>  9</td>\n",
        "    </tr>\n",
        "    <tr>\n",
        "      <th>10</th>\n",
        "      <td> 50.0</td>\n",
        "      <td> 10</td>\n",
        "    </tr>\n",
        "  </tbody>\n",
        "</table>\n",
        "</div>"
       ],
       "metadata": {},
       "output_type": "pyout",
       "prompt_number": 5,
       "text": [
        "    Rainfall  Level\n",
        "0        0.0      0\n",
        "1        0.1      1\n",
        "2        0.8      2\n",
        "3        2.0      3\n",
        "4        4.0      4\n",
        "5        6.5      5\n",
        "6       10.0      6\n",
        "7       14.0      7\n",
        "8       20.0      8\n",
        "9       30.0      9\n",
        "10      50.0     10"
       ]
      }
     ],
     "prompt_number": 5
    },
    {
     "cell_type": "code",
     "collapsed": false,
     "input": [
      "f, ax = plt.subplots()\n",
      "ax.plot(data['Rainfall'], data['Level'], 'b')\n",
      "ax.plot(data['Rainfall'], data['Level'], 'ro')\n",
      "ax.set_xlabel('Rainfall')\n",
      "ax.set_ylabel('Level')\n",
      "ax.grid()"
     ],
     "language": "python",
     "metadata": {},
     "outputs": [
      {
       "metadata": {},
       "output_type": "display_data",
       "png": "[encoded data removed]",
       "text": [
        "<matplotlib.figure.Figure at 0x108400650>"
       ]
      }
     ],
     "prompt_number": 10
    },
    {
     "cell_type": "heading",
     "level": 3,
     "metadata": {},
     "source": [
      "defines the function"
     ]
    },
    {
     "cell_type": "code",
     "collapsed": false,
     "input": [
      "def fitFunc(x,a,b,c,d):\n",
      "    \"\"\"\n",
      "    functional form: f(x) = a* ln( b (x + c) ) + d\n",
      "    \"\"\"\n",
      "    return a * np.log(b * (x + c)) + d"
     ],
     "language": "python",
     "metadata": {},
     "outputs": [],
     "prompt_number": 7
    },
    {
     "cell_type": "heading",
     "level": 3,
     "metadata": {},
     "source": [
      "fit the parameters "
     ]
    },
    {
     "cell_type": "code",
     "collapsed": false,
     "input": [
      "fitParams, fitCovariances = curve_fit(fitFunc, data['Rainfall'].values, data['Level'].values)"
     ],
     "language": "python",
     "metadata": {},
     "outputs": [],
     "prompt_number": 8
    },
    {
     "cell_type": "code",
     "collapsed": false,
     "input": [
      "fitParams"
     ],
     "language": "python",
     "metadata": {},
     "outputs": [
      {
       "metadata": {},
       "output_type": "pyout",
       "prompt_number": 9,
       "text": [
        "array([ 2.61670342,  0.82332785,  1.27180473,  0.33028854])"
       ]
      }
     ],
     "prompt_number": 9
    },
    {
     "cell_type": "code",
     "collapsed": false,
     "input": [
      "f, ax = plt.subplots()\n",
      "ax.plot(data['Rainfall'].values, fitFunc(data['Rainfall'].values, *fitParams),'k-', lw=2, label='fitted')\n",
      "ax.plot(data['Rainfall'].values, data['Level'].values, 'ro', label='data')\n",
      "ax.set_xlabel('Rainfall')\n",
      "ax.set_ylabel('Level')\n",
      "ax.legend(loc=0)\n",
      "ax.grid()\n",
      "plt.savefig('./function_fit.png')"
     ],
     "language": "python",
     "metadata": {},
     "outputs": [
      {
       "metadata": {},
       "output_type": "display_data",
       "png": "[encoded data removed]",
       "text": [
        "<matplotlib.figure.Figure at 0x1084fd450>"
       ]
      }
     ],
     "prompt_number": 11
    },
    {
     "cell_type": "code",
     "collapsed": false,
     "input": [
      "x = np.arange(100)"
     ],
     "language": "python",
     "metadata": {},
     "outputs": [],
     "prompt_number": 16
    },
    {
     "cell_type": "code",
     "collapsed": false,
     "input": [
      "f, ax = plt.subplots()\n",
      "ax.plot(x, fitFunc(x, *fitParams),'k-', lw=2, label='fitted')\n",
      "ax.plot(data['Rainfall'].values, data['Level'].values, 'ro', label='data')\n",
      "ax.set_xlabel('Rainfall')\n",
      "ax.set_ylabel('Level')\n",
      "ax.legend(loc=0)\n",
      "ax.grid()\n",
      "plt.savefig('./function_fit_extent.png')"
     ],
     "language": "python",
     "metadata": {},
     "outputs": [
      {
       "metadata": {},
       "output_type": "display_data",
       "png": "[encoded data removed]",
       "text": [
        "<matplotlib.figure.Figure at 0x1084e7a50>"
       ]
      }
     ],
     "prompt_number": 18
    }
   ],
   "metadata": {}
  }
 ]
}